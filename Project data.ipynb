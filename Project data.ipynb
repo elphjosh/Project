{
 "cells": [
  {
   "cell_type": "code",
   "execution_count": 2,
   "metadata": {},
   "outputs": [
    {
     "data": {
      "text/html": [
       "<div>\n",
       "<style scoped>\n",
       "    .dataframe tbody tr th:only-of-type {\n",
       "        vertical-align: middle;\n",
       "    }\n",
       "\n",
       "    .dataframe tbody tr th {\n",
       "        vertical-align: top;\n",
       "    }\n",
       "\n",
       "    .dataframe thead th {\n",
       "        text-align: right;\n",
       "    }\n",
       "</style>\n",
       "<table border=\"1\" class=\"dataframe\">\n",
       "  <thead>\n",
       "    <tr style=\"text-align: right;\">\n",
       "      <th></th>\n",
       "      <th>Unnamed: 0</th>\n",
       "      <th>Average house price</th>\n",
       "      <th>GDP</th>\n",
       "      <th>CPI</th>\n",
       "      <th>Personal savings rate</th>\n",
       "      <th>Effective rate</th>\n",
       "    </tr>\n",
       "  </thead>\n",
       "  <tbody>\n",
       "    <tr>\n",
       "      <th>0</th>\n",
       "      <td>1963-01-01</td>\n",
       "      <td>19300.0</td>\n",
       "      <td>621.672</td>\n",
       "      <td>30.44</td>\n",
       "      <td>10.9</td>\n",
       "      <td>3.00</td>\n",
       "    </tr>\n",
       "    <tr>\n",
       "      <th>1</th>\n",
       "      <td>1963-04-01</td>\n",
       "      <td>19400.0</td>\n",
       "      <td>629.752</td>\n",
       "      <td>30.48</td>\n",
       "      <td>10.7</td>\n",
       "      <td>3.00</td>\n",
       "    </tr>\n",
       "    <tr>\n",
       "      <th>2</th>\n",
       "      <td>1963-07-01</td>\n",
       "      <td>19200.0</td>\n",
       "      <td>644.444</td>\n",
       "      <td>30.69</td>\n",
       "      <td>10.1</td>\n",
       "      <td>3.00</td>\n",
       "    </tr>\n",
       "    <tr>\n",
       "      <th>3</th>\n",
       "      <td>1963-10-01</td>\n",
       "      <td>19600.0</td>\n",
       "      <td>653.938</td>\n",
       "      <td>30.75</td>\n",
       "      <td>11.5</td>\n",
       "      <td>3.50</td>\n",
       "    </tr>\n",
       "    <tr>\n",
       "      <th>4</th>\n",
       "      <td>1964-01-01</td>\n",
       "      <td>19600.0</td>\n",
       "      <td>669.822</td>\n",
       "      <td>30.94</td>\n",
       "      <td>10.7</td>\n",
       "      <td>3.25</td>\n",
       "    </tr>\n",
       "  </tbody>\n",
       "</table>\n",
       "</div>"
      ],
      "text/plain": [
       "   Unnamed: 0  Average house price      GDP    CPI  Personal savings rate  \\\n",
       "0  1963-01-01              19300.0  621.672  30.44                   10.9   \n",
       "1  1963-04-01              19400.0  629.752  30.48                   10.7   \n",
       "2  1963-07-01              19200.0  644.444  30.69                   10.1   \n",
       "3  1963-10-01              19600.0  653.938  30.75                   11.5   \n",
       "4  1964-01-01              19600.0  669.822  30.94                   10.7   \n",
       "\n",
       "   Effective rate  \n",
       "0            3.00  \n",
       "1            3.00  \n",
       "2            3.00  \n",
       "3            3.50  \n",
       "4            3.25  "
      ]
     },
     "execution_count": 2,
     "metadata": {},
     "output_type": "execute_result"
    }
   ],
   "source": [
    "import pandas as pd\n",
    "\n",
    "df = pd.read_csv('AverageHousePrice.csv')\n",
    "df.head()"
   ]
  },
  {
   "cell_type": "code",
   "execution_count": null,
   "metadata": {},
   "outputs": [],
   "source": []
  }
 ],
 "metadata": {
  "kernelspec": {
   "display_name": "Python 3",
   "language": "python",
   "name": "python3"
  },
  "language_info": {
   "codemirror_mode": {
    "name": "ipython",
    "version": 3
   },
   "file_extension": ".py",
   "mimetype": "text/x-python",
   "name": "python",
   "nbconvert_exporter": "python",
   "pygments_lexer": "ipython3",
   "version": "3.8.3"
  }
 },
 "nbformat": 4,
 "nbformat_minor": 4
}
